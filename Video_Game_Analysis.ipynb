{
 "cells": [
  {
   "cell_type": "markdown",
   "id": "4f376588",
   "metadata": {},
   "source": [
    "# VIDEO GAMES ANALYSIS <img src=\"video_games.jpg\">"
   ]
  },
  {
   "cell_type": "markdown",
   "id": "3a0acc2a",
   "metadata": {},
   "source": [
    "# OVERVIEW"
   ]
  },
  {
   "cell_type": "markdown",
   "id": "48ead90e",
   "metadata": {},
   "source": [
    "This analysis aims to explore video game sales data with a focus on identifying trends and insights. The study will include the following key objectives:\n",
    "\n",
    "Global Sales Analysis: Examine the top 100 most-sold games globally to identify sales patterns and performance.<p/>\n",
    "Genre and Platform Analysis: Analyze video game sales based on genres and platforms to understand preferences and trends.<p/>\n",
    "Regional Genre Preferences: Investigate game genres across different regions to identify variations in regional preferences.<p/>\n",
    "Game Title Insights: Generate a word cloud based on game titles to highlight popular themes or keywords.<p/>\n",
    "Release Year and Publisher Analysis: Analyze the release years of the top 1000 most-sold games and their associated publishers to identify historical trends and key contributors.<p/>\n",
    "Descriptive Insights: Provide additional information about games, publishers, and platforms for context and understanding.<p/>\n",
    "This comprehensive analysis will offer valuable insights into the video game industry, helping to understand the factors driving sales and popularity.<p/>"
   ]
  },
  {
   "cell_type": "markdown",
   "id": "332c0f58",
   "metadata": {},
   "source": [
    "Their fields and data types are:\n",
    "\n",
    "Rank - Ranking of overall sales, integer\n",
    "\n",
    "Name - The games name\n",
    "\n",
    "Platform - Platform of the games release (i.e. PC,PS4, etc.), object\n",
    "\n",
    "Year - Year of the game's release, float\n",
    "\n",
    "Genre - Genre of the game ,object\n",
    "\n",
    "Publisher - Publisher of the game, object\n",
    "\n",
    "NA_Sales - Sales in North America (in millions), float\n",
    "\n",
    "EU_Sales - Sales in Europe (in millions), float\n",
    "\n",
    "JP_Sales - Sales in Japan (in millions), float\n",
    "\n",
    "Other_Sales - Sales in the rest of the world (in millions), float\n",
    "\n",
    "Global_Sales - Total worldwide sales, float"
   ]
  },
  {
   "cell_type": "markdown",
   "id": "bc68108f",
   "metadata": {},
   "source": [
    "### Dataset\n",
    "number of rows  16598 <p/>\n",
    "number of columns 11  <p/>"
   ]
  },
  {
   "cell_type": "markdown",
   "id": "d9d90f00",
   "metadata": {},
   "source": [
    "### Import necessary libraries"
   ]
  },
  {
   "cell_type": "code",
   "execution_count": 1,
   "id": "f6437e40",
   "metadata": {},
   "outputs": [],
   "source": [
    "import pandas as pd\n",
    "import numpy as np\n",
    "import dtale\n",
    "import matplotlib.pyplot as plt\n",
    "import seaborn as sns"
   ]
  },
  {
   "cell_type": "markdown",
   "id": "f9c8e87e",
   "metadata": {},
   "source": [
    "### Load data"
   ]
  },
  {
   "cell_type": "code",
   "execution_count": 2,
   "id": "e5a84687",
   "metadata": {},
   "outputs": [],
   "source": [
    "vg=pd.read_csv(\"vgsales.csv\")"
   ]
  },
  {
   "cell_type": "markdown",
   "id": "7fb3cf9b",
   "metadata": {},
   "source": [
    "### Data Undestanding"
   ]
  },
  {
   "cell_type": "code",
   "execution_count": 3,
   "id": "1835c18f",
   "metadata": {},
   "outputs": [
    {
     "data": {
      "text/html": [
       "<div>\n",
       "<style scoped>\n",
       "    .dataframe tbody tr th:only-of-type {\n",
       "        vertical-align: middle;\n",
       "    }\n",
       "\n",
       "    .dataframe tbody tr th {\n",
       "        vertical-align: top;\n",
       "    }\n",
       "\n",
       "    .dataframe thead th {\n",
       "        text-align: right;\n",
       "    }\n",
       "</style>\n",
       "<table border=\"1\" class=\"dataframe\">\n",
       "  <thead>\n",
       "    <tr style=\"text-align: right;\">\n",
       "      <th></th>\n",
       "      <th>Rank</th>\n",
       "      <th>Name</th>\n",
       "      <th>Platform</th>\n",
       "      <th>Year</th>\n",
       "      <th>Genre</th>\n",
       "      <th>Publisher</th>\n",
       "      <th>NA_Sales</th>\n",
       "      <th>EU_Sales</th>\n",
       "      <th>JP_Sales</th>\n",
       "      <th>Other_Sales</th>\n",
       "      <th>Global_Sales</th>\n",
       "    </tr>\n",
       "  </thead>\n",
       "  <tbody>\n",
       "    <tr>\n",
       "      <th>0</th>\n",
       "      <td>1</td>\n",
       "      <td>Wii Sports</td>\n",
       "      <td>Wii</td>\n",
       "      <td>2006.0</td>\n",
       "      <td>Sports</td>\n",
       "      <td>Nintendo</td>\n",
       "      <td>41.49</td>\n",
       "      <td>29.02</td>\n",
       "      <td>3.77</td>\n",
       "      <td>8.46</td>\n",
       "      <td>82.74</td>\n",
       "    </tr>\n",
       "    <tr>\n",
       "      <th>1</th>\n",
       "      <td>2</td>\n",
       "      <td>Super Mario Bros.</td>\n",
       "      <td>NES</td>\n",
       "      <td>1985.0</td>\n",
       "      <td>Platform</td>\n",
       "      <td>Nintendo</td>\n",
       "      <td>29.08</td>\n",
       "      <td>3.58</td>\n",
       "      <td>6.81</td>\n",
       "      <td>0.77</td>\n",
       "      <td>40.24</td>\n",
       "    </tr>\n",
       "    <tr>\n",
       "      <th>2</th>\n",
       "      <td>3</td>\n",
       "      <td>Mario Kart Wii</td>\n",
       "      <td>Wii</td>\n",
       "      <td>2008.0</td>\n",
       "      <td>Racing</td>\n",
       "      <td>Nintendo</td>\n",
       "      <td>15.85</td>\n",
       "      <td>12.88</td>\n",
       "      <td>3.79</td>\n",
       "      <td>3.31</td>\n",
       "      <td>35.82</td>\n",
       "    </tr>\n",
       "    <tr>\n",
       "      <th>3</th>\n",
       "      <td>4</td>\n",
       "      <td>Wii Sports Resort</td>\n",
       "      <td>Wii</td>\n",
       "      <td>2009.0</td>\n",
       "      <td>Sports</td>\n",
       "      <td>Nintendo</td>\n",
       "      <td>15.75</td>\n",
       "      <td>11.01</td>\n",
       "      <td>3.28</td>\n",
       "      <td>2.96</td>\n",
       "      <td>33.00</td>\n",
       "    </tr>\n",
       "    <tr>\n",
       "      <th>4</th>\n",
       "      <td>5</td>\n",
       "      <td>Pokemon Red/Pokemon Blue</td>\n",
       "      <td>GB</td>\n",
       "      <td>1996.0</td>\n",
       "      <td>Role-Playing</td>\n",
       "      <td>Nintendo</td>\n",
       "      <td>11.27</td>\n",
       "      <td>8.89</td>\n",
       "      <td>10.22</td>\n",
       "      <td>1.00</td>\n",
       "      <td>31.37</td>\n",
       "    </tr>\n",
       "  </tbody>\n",
       "</table>\n",
       "</div>"
      ],
      "text/plain": [
       "   Rank                      Name Platform    Year         Genre Publisher  \\\n",
       "0     1                Wii Sports      Wii  2006.0        Sports  Nintendo   \n",
       "1     2         Super Mario Bros.      NES  1985.0      Platform  Nintendo   \n",
       "2     3            Mario Kart Wii      Wii  2008.0        Racing  Nintendo   \n",
       "3     4         Wii Sports Resort      Wii  2009.0        Sports  Nintendo   \n",
       "4     5  Pokemon Red/Pokemon Blue       GB  1996.0  Role-Playing  Nintendo   \n",
       "\n",
       "   NA_Sales  EU_Sales  JP_Sales  Other_Sales  Global_Sales  \n",
       "0     41.49     29.02      3.77         8.46         82.74  \n",
       "1     29.08      3.58      6.81         0.77         40.24  \n",
       "2     15.85     12.88      3.79         3.31         35.82  \n",
       "3     15.75     11.01      3.28         2.96         33.00  \n",
       "4     11.27      8.89     10.22         1.00         31.37  "
      ]
     },
     "execution_count": 3,
     "metadata": {},
     "output_type": "execute_result"
    }
   ],
   "source": [
    "vg.head()"
   ]
  },
  {
   "cell_type": "code",
   "execution_count": 4,
   "id": "d836ba2e",
   "metadata": {},
   "outputs": [
    {
     "data": {
      "text/html": [
       "<div>\n",
       "<style scoped>\n",
       "    .dataframe tbody tr th:only-of-type {\n",
       "        vertical-align: middle;\n",
       "    }\n",
       "\n",
       "    .dataframe tbody tr th {\n",
       "        vertical-align: top;\n",
       "    }\n",
       "\n",
       "    .dataframe thead th {\n",
       "        text-align: right;\n",
       "    }\n",
       "</style>\n",
       "<table border=\"1\" class=\"dataframe\">\n",
       "  <thead>\n",
       "    <tr style=\"text-align: right;\">\n",
       "      <th></th>\n",
       "      <th>Rank</th>\n",
       "      <th>Name</th>\n",
       "      <th>Platform</th>\n",
       "      <th>Year</th>\n",
       "      <th>Genre</th>\n",
       "      <th>Publisher</th>\n",
       "      <th>NA_Sales</th>\n",
       "      <th>EU_Sales</th>\n",
       "      <th>JP_Sales</th>\n",
       "      <th>Other_Sales</th>\n",
       "      <th>Global_Sales</th>\n",
       "    </tr>\n",
       "  </thead>\n",
       "  <tbody>\n",
       "    <tr>\n",
       "      <th>12171</th>\n",
       "      <td>12173</td>\n",
       "      <td>Dreamer Series: Pop Star</td>\n",
       "      <td>DS</td>\n",
       "      <td>2009.0</td>\n",
       "      <td>Misc</td>\n",
       "      <td>Tivola</td>\n",
       "      <td>0.04</td>\n",
       "      <td>0.02</td>\n",
       "      <td>0.00</td>\n",
       "      <td>0.01</td>\n",
       "      <td>0.07</td>\n",
       "    </tr>\n",
       "    <tr>\n",
       "      <th>10088</th>\n",
       "      <td>10090</td>\n",
       "      <td>Queen's Blade: Spiral Chaos</td>\n",
       "      <td>PSP</td>\n",
       "      <td>2009.0</td>\n",
       "      <td>Role-Playing</td>\n",
       "      <td>Namco Bandai Games</td>\n",
       "      <td>0.00</td>\n",
       "      <td>0.00</td>\n",
       "      <td>0.11</td>\n",
       "      <td>0.00</td>\n",
       "      <td>0.11</td>\n",
       "    </tr>\n",
       "    <tr>\n",
       "      <th>9193</th>\n",
       "      <td>9195</td>\n",
       "      <td>Syberia</td>\n",
       "      <td>DS</td>\n",
       "      <td>2008.0</td>\n",
       "      <td>Action</td>\n",
       "      <td>Mindscape</td>\n",
       "      <td>0.10</td>\n",
       "      <td>0.02</td>\n",
       "      <td>0.00</td>\n",
       "      <td>0.01</td>\n",
       "      <td>0.14</td>\n",
       "    </tr>\n",
       "    <tr>\n",
       "      <th>6917</th>\n",
       "      <td>6919</td>\n",
       "      <td>Angry Birds</td>\n",
       "      <td>PC</td>\n",
       "      <td>2011.0</td>\n",
       "      <td>Puzzle</td>\n",
       "      <td>Focus Home Interactive</td>\n",
       "      <td>0.00</td>\n",
       "      <td>0.18</td>\n",
       "      <td>0.00</td>\n",
       "      <td>0.05</td>\n",
       "      <td>0.24</td>\n",
       "    </tr>\n",
       "    <tr>\n",
       "      <th>10158</th>\n",
       "      <td>10160</td>\n",
       "      <td>18 Wheels of Steel: Extreme Trucker 2</td>\n",
       "      <td>PC</td>\n",
       "      <td>2011.0</td>\n",
       "      <td>Racing</td>\n",
       "      <td>Rondomedia</td>\n",
       "      <td>0.08</td>\n",
       "      <td>0.02</td>\n",
       "      <td>0.00</td>\n",
       "      <td>0.01</td>\n",
       "      <td>0.11</td>\n",
       "    </tr>\n",
       "  </tbody>\n",
       "</table>\n",
       "</div>"
      ],
      "text/plain": [
       "        Rank                                   Name Platform    Year  \\\n",
       "12171  12173               Dreamer Series: Pop Star       DS  2009.0   \n",
       "10088  10090            Queen's Blade: Spiral Chaos      PSP  2009.0   \n",
       "9193    9195                                Syberia       DS  2008.0   \n",
       "6917    6919                            Angry Birds       PC  2011.0   \n",
       "10158  10160  18 Wheels of Steel: Extreme Trucker 2       PC  2011.0   \n",
       "\n",
       "              Genre               Publisher  NA_Sales  EU_Sales  JP_Sales  \\\n",
       "12171          Misc                  Tivola      0.04      0.02      0.00   \n",
       "10088  Role-Playing      Namco Bandai Games      0.00      0.00      0.11   \n",
       "9193         Action               Mindscape      0.10      0.02      0.00   \n",
       "6917         Puzzle  Focus Home Interactive      0.00      0.18      0.00   \n",
       "10158        Racing              Rondomedia      0.08      0.02      0.00   \n",
       "\n",
       "       Other_Sales  Global_Sales  \n",
       "12171         0.01          0.07  \n",
       "10088         0.00          0.11  \n",
       "9193          0.01          0.14  \n",
       "6917          0.05          0.24  \n",
       "10158         0.01          0.11  "
      ]
     },
     "execution_count": 4,
     "metadata": {},
     "output_type": "execute_result"
    }
   ],
   "source": [
    "vg.sample(5)"
   ]
  },
  {
   "cell_type": "code",
   "execution_count": 5,
   "id": "1d6e2a29",
   "metadata": {},
   "outputs": [],
   "source": [
    "# Exploratory data analysis \n",
    "# dtale.show(vg, open_browser=True)"
   ]
  },
  {
   "cell_type": "code",
   "execution_count": 6,
   "id": "c236539c",
   "metadata": {},
   "outputs": [
    {
     "data": {
      "text/plain": [
       "(16598, 11)"
      ]
     },
     "execution_count": 6,
     "metadata": {},
     "output_type": "execute_result"
    }
   ],
   "source": [
    "# number of columns and rows\n",
    "vg.shape"
   ]
  },
  {
   "cell_type": "markdown",
   "id": "265712b8",
   "metadata": {},
   "source": [
    "### Data Cleaning"
   ]
  },
  {
   "cell_type": "markdown",
   "id": "d7843649",
   "metadata": {},
   "source": [
    "issue 1: year contains missing values"
   ]
  },
  {
   "cell_type": "code",
   "execution_count": 7,
   "id": "275a1264",
   "metadata": {},
   "outputs": [
    {
     "data": {
      "text/plain": [
       "Year         271\n",
       "Publisher     58\n",
       "dtype: int64"
      ]
     },
     "execution_count": 7,
     "metadata": {},
     "output_type": "execute_result"
    }
   ],
   "source": [
    "vg[[\"Year\", \"Publisher\"]].isna().sum()"
   ]
  },
  {
   "cell_type": "code",
   "execution_count": 8,
   "id": "02e655b1",
   "metadata": {},
   "outputs": [
    {
     "data": {
      "text/plain": [
       "271"
      ]
     },
     "execution_count": 8,
     "metadata": {},
     "output_type": "execute_result"
    }
   ],
   "source": [
    "vg[\"Year\"].isna().sum()"
   ]
  },
  {
   "cell_type": "markdown",
   "id": "bf340df5",
   "metadata": {},
   "source": [
    "plan: fill na in year using forward fill"
   ]
  },
  {
   "cell_type": "code",
   "execution_count": 9,
   "id": "b18cd09a",
   "metadata": {},
   "outputs": [],
   "source": [
    "\n",
    "vg[\"Year\"]=vg[\"Year\"].fillna(method = 'ffill')"
   ]
  },
  {
   "cell_type": "code",
   "execution_count": 10,
   "id": "fd2a65a6",
   "metadata": {},
   "outputs": [
    {
     "data": {
      "text/plain": [
       "Publisher\n",
       "Electronic Arts                 1351\n",
       "Activision                       975\n",
       "Namco Bandai Games               932\n",
       "Ubisoft                          921\n",
       "Konami Digital Entertainment     832\n",
       "                                ... \n",
       "Warp                               1\n",
       "New                                1\n",
       "Elite                              1\n",
       "Evolution Games                    1\n",
       "UIG Entertainment                  1\n",
       "Name: count, Length: 578, dtype: int64"
      ]
     },
     "execution_count": 10,
     "metadata": {},
     "output_type": "execute_result"
    }
   ],
   "source": [
    "# to have an idea of the value count for each publisher\n",
    "vg[\"Publisher\"].value_counts()"
   ]
  },
  {
   "cell_type": "code",
   "execution_count": 11,
   "id": "99b0f662",
   "metadata": {},
   "outputs": [],
   "source": [
    "# to get the list of publisher with null\n",
    "missing_publisher = vg[vg[\"Publisher\"].isnull()]"
   ]
  },
  {
   "cell_type": "code",
   "execution_count": 12,
   "id": "8de951b2",
   "metadata": {},
   "outputs": [],
   "source": [
    "# missing_publisher.to_csv(\"missing_publisher\")"
   ]
  },
  {
   "cell_type": "code",
   "execution_count": 13,
   "id": "8c878895",
   "metadata": {},
   "outputs": [],
   "source": [
    "vg.dropna(inplace=True)"
   ]
  },
  {
   "cell_type": "markdown",
   "id": "527d8f08",
   "metadata": {},
   "source": [
    "test: check missing value result"
   ]
  },
  {
   "cell_type": "code",
   "execution_count": 14,
   "id": "3fb8e857",
   "metadata": {},
   "outputs": [
    {
     "data": {
      "text/html": [
       "<div>\n",
       "<style scoped>\n",
       "    .dataframe tbody tr th:only-of-type {\n",
       "        vertical-align: middle;\n",
       "    }\n",
       "\n",
       "    .dataframe tbody tr th {\n",
       "        vertical-align: top;\n",
       "    }\n",
       "\n",
       "    .dataframe thead th {\n",
       "        text-align: right;\n",
       "    }\n",
       "</style>\n",
       "<table border=\"1\" class=\"dataframe\">\n",
       "  <thead>\n",
       "    <tr style=\"text-align: right;\">\n",
       "      <th></th>\n",
       "      <th>Rank</th>\n",
       "      <th>Name</th>\n",
       "      <th>Platform</th>\n",
       "      <th>Year</th>\n",
       "      <th>Genre</th>\n",
       "      <th>Publisher</th>\n",
       "      <th>NA_Sales</th>\n",
       "      <th>EU_Sales</th>\n",
       "      <th>JP_Sales</th>\n",
       "      <th>Other_Sales</th>\n",
       "      <th>Global_Sales</th>\n",
       "    </tr>\n",
       "  </thead>\n",
       "  <tbody>\n",
       "    <tr>\n",
       "      <th>0</th>\n",
       "      <td>1</td>\n",
       "      <td>Wii Sports</td>\n",
       "      <td>Wii</td>\n",
       "      <td>2006.0</td>\n",
       "      <td>Sports</td>\n",
       "      <td>Nintendo</td>\n",
       "      <td>41.49</td>\n",
       "      <td>29.02</td>\n",
       "      <td>3.77</td>\n",
       "      <td>8.46</td>\n",
       "      <td>82.74</td>\n",
       "    </tr>\n",
       "    <tr>\n",
       "      <th>1</th>\n",
       "      <td>2</td>\n",
       "      <td>Super Mario Bros.</td>\n",
       "      <td>NES</td>\n",
       "      <td>1985.0</td>\n",
       "      <td>Platform</td>\n",
       "      <td>Nintendo</td>\n",
       "      <td>29.08</td>\n",
       "      <td>3.58</td>\n",
       "      <td>6.81</td>\n",
       "      <td>0.77</td>\n",
       "      <td>40.24</td>\n",
       "    </tr>\n",
       "    <tr>\n",
       "      <th>2</th>\n",
       "      <td>3</td>\n",
       "      <td>Mario Kart Wii</td>\n",
       "      <td>Wii</td>\n",
       "      <td>2008.0</td>\n",
       "      <td>Racing</td>\n",
       "      <td>Nintendo</td>\n",
       "      <td>15.85</td>\n",
       "      <td>12.88</td>\n",
       "      <td>3.79</td>\n",
       "      <td>3.31</td>\n",
       "      <td>35.82</td>\n",
       "    </tr>\n",
       "    <tr>\n",
       "      <th>3</th>\n",
       "      <td>4</td>\n",
       "      <td>Wii Sports Resort</td>\n",
       "      <td>Wii</td>\n",
       "      <td>2009.0</td>\n",
       "      <td>Sports</td>\n",
       "      <td>Nintendo</td>\n",
       "      <td>15.75</td>\n",
       "      <td>11.01</td>\n",
       "      <td>3.28</td>\n",
       "      <td>2.96</td>\n",
       "      <td>33.00</td>\n",
       "    </tr>\n",
       "    <tr>\n",
       "      <th>4</th>\n",
       "      <td>5</td>\n",
       "      <td>Pokemon Red/Pokemon Blue</td>\n",
       "      <td>GB</td>\n",
       "      <td>1996.0</td>\n",
       "      <td>Role-Playing</td>\n",
       "      <td>Nintendo</td>\n",
       "      <td>11.27</td>\n",
       "      <td>8.89</td>\n",
       "      <td>10.22</td>\n",
       "      <td>1.00</td>\n",
       "      <td>31.37</td>\n",
       "    </tr>\n",
       "  </tbody>\n",
       "</table>\n",
       "</div>"
      ],
      "text/plain": [
       "   Rank                      Name Platform    Year         Genre Publisher  \\\n",
       "0     1                Wii Sports      Wii  2006.0        Sports  Nintendo   \n",
       "1     2         Super Mario Bros.      NES  1985.0      Platform  Nintendo   \n",
       "2     3            Mario Kart Wii      Wii  2008.0        Racing  Nintendo   \n",
       "3     4         Wii Sports Resort      Wii  2009.0        Sports  Nintendo   \n",
       "4     5  Pokemon Red/Pokemon Blue       GB  1996.0  Role-Playing  Nintendo   \n",
       "\n",
       "   NA_Sales  EU_Sales  JP_Sales  Other_Sales  Global_Sales  \n",
       "0     41.49     29.02      3.77         8.46         82.74  \n",
       "1     29.08      3.58      6.81         0.77         40.24  \n",
       "2     15.85     12.88      3.79         3.31         35.82  \n",
       "3     15.75     11.01      3.28         2.96         33.00  \n",
       "4     11.27      8.89     10.22         1.00         31.37  "
      ]
     },
     "execution_count": 14,
     "metadata": {},
     "output_type": "execute_result"
    }
   ],
   "source": [
    "vg.head()"
   ]
  },
  {
   "cell_type": "code",
   "execution_count": 15,
   "id": "b2bf9ce1",
   "metadata": {},
   "outputs": [
    {
     "data": {
      "text/plain": [
       "0"
      ]
     },
     "execution_count": 15,
     "metadata": {},
     "output_type": "execute_result"
    }
   ],
   "source": [
    "# test:confirm if there are no missing value\n",
    "vg[\"Year\"].isna().sum()"
   ]
  },
  {
   "cell_type": "code",
   "execution_count": 16,
   "id": "c6ac724a",
   "metadata": {},
   "outputs": [
    {
     "data": {
      "text/plain": [
       "Rank            0\n",
       "Name            0\n",
       "Platform        0\n",
       "Year            0\n",
       "Genre           0\n",
       "Publisher       0\n",
       "NA_Sales        0\n",
       "EU_Sales        0\n",
       "JP_Sales        0\n",
       "Other_Sales     0\n",
       "Global_Sales    0\n",
       "dtype: int64"
      ]
     },
     "execution_count": 16,
     "metadata": {},
     "output_type": "execute_result"
    }
   ],
   "source": [
    "vg.isna().sum()"
   ]
  },
  {
   "cell_type": "markdown",
   "id": "2f811e14",
   "metadata": {},
   "source": [
    "Issue 2 : year is a string</p>\n"
   ]
  },
  {
   "cell_type": "code",
   "execution_count": 17,
   "id": "68f7839e",
   "metadata": {},
   "outputs": [
    {
     "data": {
      "text/plain": [
       "Rank              int64\n",
       "Name             object\n",
       "Platform         object\n",
       "Year            float64\n",
       "Genre            object\n",
       "Publisher        object\n",
       "NA_Sales        float64\n",
       "EU_Sales        float64\n",
       "JP_Sales        float64\n",
       "Other_Sales     float64\n",
       "Global_Sales    float64\n",
       "dtype: object"
      ]
     },
     "execution_count": 17,
     "metadata": {},
     "output_type": "execute_result"
    }
   ],
   "source": [
    "vg.dtypes"
   ]
  },
  {
   "cell_type": "code",
   "execution_count": 18,
   "id": "5871ef3f",
   "metadata": {},
   "outputs": [],
   "source": [
    "# plan:change year to string\n",
    "def cleandate(x):   \n",
    "    if x == 'nan' or pd.isna(x):\n",
    "        return x\n",
    "    # Remove '.0' and return the year as a string\n",
    "    return str(int(float(x)))\n",
    "    "
   ]
  },
  {
   "cell_type": "code",
   "execution_count": 19,
   "id": "a2a15182",
   "metadata": {},
   "outputs": [],
   "source": [
    "vg[\"Year\"]=vg[\"Year\"].apply(cleandate)"
   ]
  },
  {
   "cell_type": "code",
   "execution_count": 20,
   "id": "e4b0ecf5",
   "metadata": {},
   "outputs": [],
   "source": [
    "# add new column to confirm if global sales is the sum of all sales\n",
    "vg[\"test_sum\"]=vg[\"NA_Sales\"]+vg[\"EU_Sales\"]+vg[\"JP_Sales\"]+vg[\"Other_Sales\"]"
   ]
  },
  {
   "cell_type": "code",
   "execution_count": 21,
   "id": "42a39a62",
   "metadata": {},
   "outputs": [
    {
     "data": {
      "text/html": [
       "<div>\n",
       "<style scoped>\n",
       "    .dataframe tbody tr th:only-of-type {\n",
       "        vertical-align: middle;\n",
       "    }\n",
       "\n",
       "    .dataframe tbody tr th {\n",
       "        vertical-align: top;\n",
       "    }\n",
       "\n",
       "    .dataframe thead th {\n",
       "        text-align: right;\n",
       "    }\n",
       "</style>\n",
       "<table border=\"1\" class=\"dataframe\">\n",
       "  <thead>\n",
       "    <tr style=\"text-align: right;\">\n",
       "      <th></th>\n",
       "      <th>Rank</th>\n",
       "      <th>Name</th>\n",
       "      <th>Platform</th>\n",
       "      <th>Year</th>\n",
       "      <th>Genre</th>\n",
       "      <th>Publisher</th>\n",
       "      <th>NA_Sales</th>\n",
       "      <th>EU_Sales</th>\n",
       "      <th>JP_Sales</th>\n",
       "      <th>Other_Sales</th>\n",
       "      <th>Global_Sales</th>\n",
       "      <th>test_sum</th>\n",
       "    </tr>\n",
       "  </thead>\n",
       "  <tbody>\n",
       "    <tr>\n",
       "      <th>0</th>\n",
       "      <td>1</td>\n",
       "      <td>Wii Sports</td>\n",
       "      <td>Wii</td>\n",
       "      <td>2006</td>\n",
       "      <td>Sports</td>\n",
       "      <td>Nintendo</td>\n",
       "      <td>41.49</td>\n",
       "      <td>29.02</td>\n",
       "      <td>3.77</td>\n",
       "      <td>8.46</td>\n",
       "      <td>82.74</td>\n",
       "      <td>82.74</td>\n",
       "    </tr>\n",
       "    <tr>\n",
       "      <th>1</th>\n",
       "      <td>2</td>\n",
       "      <td>Super Mario Bros.</td>\n",
       "      <td>NES</td>\n",
       "      <td>1985</td>\n",
       "      <td>Platform</td>\n",
       "      <td>Nintendo</td>\n",
       "      <td>29.08</td>\n",
       "      <td>3.58</td>\n",
       "      <td>6.81</td>\n",
       "      <td>0.77</td>\n",
       "      <td>40.24</td>\n",
       "      <td>40.24</td>\n",
       "    </tr>\n",
       "    <tr>\n",
       "      <th>2</th>\n",
       "      <td>3</td>\n",
       "      <td>Mario Kart Wii</td>\n",
       "      <td>Wii</td>\n",
       "      <td>2008</td>\n",
       "      <td>Racing</td>\n",
       "      <td>Nintendo</td>\n",
       "      <td>15.85</td>\n",
       "      <td>12.88</td>\n",
       "      <td>3.79</td>\n",
       "      <td>3.31</td>\n",
       "      <td>35.82</td>\n",
       "      <td>35.83</td>\n",
       "    </tr>\n",
       "    <tr>\n",
       "      <th>3</th>\n",
       "      <td>4</td>\n",
       "      <td>Wii Sports Resort</td>\n",
       "      <td>Wii</td>\n",
       "      <td>2009</td>\n",
       "      <td>Sports</td>\n",
       "      <td>Nintendo</td>\n",
       "      <td>15.75</td>\n",
       "      <td>11.01</td>\n",
       "      <td>3.28</td>\n",
       "      <td>2.96</td>\n",
       "      <td>33.00</td>\n",
       "      <td>33.00</td>\n",
       "    </tr>\n",
       "    <tr>\n",
       "      <th>4</th>\n",
       "      <td>5</td>\n",
       "      <td>Pokemon Red/Pokemon Blue</td>\n",
       "      <td>GB</td>\n",
       "      <td>1996</td>\n",
       "      <td>Role-Playing</td>\n",
       "      <td>Nintendo</td>\n",
       "      <td>11.27</td>\n",
       "      <td>8.89</td>\n",
       "      <td>10.22</td>\n",
       "      <td>1.00</td>\n",
       "      <td>31.37</td>\n",
       "      <td>31.38</td>\n",
       "    </tr>\n",
       "  </tbody>\n",
       "</table>\n",
       "</div>"
      ],
      "text/plain": [
       "   Rank                      Name Platform  Year         Genre Publisher  \\\n",
       "0     1                Wii Sports      Wii  2006        Sports  Nintendo   \n",
       "1     2         Super Mario Bros.      NES  1985      Platform  Nintendo   \n",
       "2     3            Mario Kart Wii      Wii  2008        Racing  Nintendo   \n",
       "3     4         Wii Sports Resort      Wii  2009        Sports  Nintendo   \n",
       "4     5  Pokemon Red/Pokemon Blue       GB  1996  Role-Playing  Nintendo   \n",
       "\n",
       "   NA_Sales  EU_Sales  JP_Sales  Other_Sales  Global_Sales  test_sum  \n",
       "0     41.49     29.02      3.77         8.46         82.74     82.74  \n",
       "1     29.08      3.58      6.81         0.77         40.24     40.24  \n",
       "2     15.85     12.88      3.79         3.31         35.82     35.83  \n",
       "3     15.75     11.01      3.28         2.96         33.00     33.00  \n",
       "4     11.27      8.89     10.22         1.00         31.37     31.38  "
      ]
     },
     "execution_count": 21,
     "metadata": {},
     "output_type": "execute_result"
    }
   ],
   "source": [
    "# confirmation, it is confirmed that Global sales is the sum of all sales\n",
    "vg.head()"
   ]
  },
  {
   "cell_type": "code",
   "execution_count": 22,
   "id": "5a0d2975",
   "metadata": {},
   "outputs": [],
   "source": [
    "# compare the value between the rounded global sales and test sum\n",
    "vg[\"check\"]= vg[\"Global_Sales\"].round(1)==vg[\"test_sum\"].round(1)"
   ]
  },
  {
   "cell_type": "code",
   "execution_count": 23,
   "id": "b01c9fa6",
   "metadata": {},
   "outputs": [
    {
     "data": {
      "text/plain": [
       "0        True\n",
       "1        True\n",
       "2        True\n",
       "3        True\n",
       "4        True\n",
       "         ... \n",
       "16593    True\n",
       "16594    True\n",
       "16595    True\n",
       "16596    True\n",
       "16597    True\n",
       "Name: check, Length: 16540, dtype: bool"
      ]
     },
     "execution_count": 23,
     "metadata": {},
     "output_type": "execute_result"
    }
   ],
   "source": [
    "vg.check"
   ]
  },
  {
   "cell_type": "code",
   "execution_count": 24,
   "id": "e1e77b40",
   "metadata": {},
   "outputs": [
    {
     "data": {
      "text/html": [
       "<div>\n",
       "<style scoped>\n",
       "    .dataframe tbody tr th:only-of-type {\n",
       "        vertical-align: middle;\n",
       "    }\n",
       "\n",
       "    .dataframe tbody tr th {\n",
       "        vertical-align: top;\n",
       "    }\n",
       "\n",
       "    .dataframe thead th {\n",
       "        text-align: right;\n",
       "    }\n",
       "</style>\n",
       "<table border=\"1\" class=\"dataframe\">\n",
       "  <thead>\n",
       "    <tr style=\"text-align: right;\">\n",
       "      <th></th>\n",
       "      <th>Rank</th>\n",
       "      <th>Name</th>\n",
       "      <th>Platform</th>\n",
       "      <th>Year</th>\n",
       "      <th>Genre</th>\n",
       "      <th>Publisher</th>\n",
       "      <th>NA_Sales</th>\n",
       "      <th>EU_Sales</th>\n",
       "      <th>JP_Sales</th>\n",
       "      <th>Other_Sales</th>\n",
       "      <th>Global_Sales</th>\n",
       "      <th>test_sum</th>\n",
       "      <th>check</th>\n",
       "    </tr>\n",
       "  </thead>\n",
       "  <tbody>\n",
       "    <tr>\n",
       "      <th>32</th>\n",
       "      <td>33</td>\n",
       "      <td>Pokemon X/Pokemon Y</td>\n",
       "      <td>3DS</td>\n",
       "      <td>2013</td>\n",
       "      <td>Role-Playing</td>\n",
       "      <td>Nintendo</td>\n",
       "      <td>5.17</td>\n",
       "      <td>4.05</td>\n",
       "      <td>4.34</td>\n",
       "      <td>0.79</td>\n",
       "      <td>14.35</td>\n",
       "      <td>14.35</td>\n",
       "      <td>False</td>\n",
       "    </tr>\n",
       "    <tr>\n",
       "      <th>47</th>\n",
       "      <td>48</td>\n",
       "      <td>Gran Turismo 4</td>\n",
       "      <td>PS2</td>\n",
       "      <td>2004</td>\n",
       "      <td>Racing</td>\n",
       "      <td>Sony Computer Entertainment</td>\n",
       "      <td>3.01</td>\n",
       "      <td>0.01</td>\n",
       "      <td>1.10</td>\n",
       "      <td>7.53</td>\n",
       "      <td>11.66</td>\n",
       "      <td>11.65</td>\n",
       "      <td>False</td>\n",
       "    </tr>\n",
       "    <tr>\n",
       "      <th>85</th>\n",
       "      <td>86</td>\n",
       "      <td>Mario &amp; Sonic at the Olympic Games</td>\n",
       "      <td>Wii</td>\n",
       "      <td>2007</td>\n",
       "      <td>Sports</td>\n",
       "      <td>Sega</td>\n",
       "      <td>2.58</td>\n",
       "      <td>3.90</td>\n",
       "      <td>0.66</td>\n",
       "      <td>0.91</td>\n",
       "      <td>8.06</td>\n",
       "      <td>8.05</td>\n",
       "      <td>False</td>\n",
       "    </tr>\n",
       "    <tr>\n",
       "      <th>154</th>\n",
       "      <td>155</td>\n",
       "      <td>Destiny</td>\n",
       "      <td>PS4</td>\n",
       "      <td>2014</td>\n",
       "      <td>Shooter</td>\n",
       "      <td>Activision</td>\n",
       "      <td>2.49</td>\n",
       "      <td>2.05</td>\n",
       "      <td>0.16</td>\n",
       "      <td>0.96</td>\n",
       "      <td>5.65</td>\n",
       "      <td>5.66</td>\n",
       "      <td>False</td>\n",
       "    </tr>\n",
       "    <tr>\n",
       "      <th>176</th>\n",
       "      <td>177</td>\n",
       "      <td>Assassin's Creed II</td>\n",
       "      <td>X360</td>\n",
       "      <td>2009</td>\n",
       "      <td>Action</td>\n",
       "      <td>Ubisoft</td>\n",
       "      <td>3.10</td>\n",
       "      <td>1.56</td>\n",
       "      <td>0.08</td>\n",
       "      <td>0.51</td>\n",
       "      <td>5.27</td>\n",
       "      <td>5.25</td>\n",
       "      <td>False</td>\n",
       "    </tr>\n",
       "    <tr>\n",
       "      <th>...</th>\n",
       "      <td>...</td>\n",
       "      <td>...</td>\n",
       "      <td>...</td>\n",
       "      <td>...</td>\n",
       "      <td>...</td>\n",
       "      <td>...</td>\n",
       "      <td>...</td>\n",
       "      <td>...</td>\n",
       "      <td>...</td>\n",
       "      <td>...</td>\n",
       "      <td>...</td>\n",
       "      <td>...</td>\n",
       "      <td>...</td>\n",
       "    </tr>\n",
       "    <tr>\n",
       "      <th>13002</th>\n",
       "      <td>13004</td>\n",
       "      <td>Ferrari F355 Challenge</td>\n",
       "      <td>PS2</td>\n",
       "      <td>2002</td>\n",
       "      <td>Racing</td>\n",
       "      <td>Sony Computer Entertainment</td>\n",
       "      <td>0.03</td>\n",
       "      <td>0.02</td>\n",
       "      <td>0.00</td>\n",
       "      <td>0.01</td>\n",
       "      <td>0.05</td>\n",
       "      <td>0.06</td>\n",
       "      <td>False</td>\n",
       "    </tr>\n",
       "    <tr>\n",
       "      <th>13010</th>\n",
       "      <td>13012</td>\n",
       "      <td>Shifters</td>\n",
       "      <td>PS2</td>\n",
       "      <td>2002</td>\n",
       "      <td>Adventure</td>\n",
       "      <td>3DO</td>\n",
       "      <td>0.03</td>\n",
       "      <td>0.02</td>\n",
       "      <td>0.00</td>\n",
       "      <td>0.01</td>\n",
       "      <td>0.05</td>\n",
       "      <td>0.06</td>\n",
       "      <td>False</td>\n",
       "    </tr>\n",
       "    <tr>\n",
       "      <th>13042</th>\n",
       "      <td>13044</td>\n",
       "      <td>Downforce</td>\n",
       "      <td>PS2</td>\n",
       "      <td>2002</td>\n",
       "      <td>Racing</td>\n",
       "      <td>Avalon Interactive</td>\n",
       "      <td>0.03</td>\n",
       "      <td>0.02</td>\n",
       "      <td>0.00</td>\n",
       "      <td>0.01</td>\n",
       "      <td>0.05</td>\n",
       "      <td>0.06</td>\n",
       "      <td>False</td>\n",
       "    </tr>\n",
       "    <tr>\n",
       "      <th>13043</th>\n",
       "      <td>13045</td>\n",
       "      <td>Bejeweled Twist</td>\n",
       "      <td>PC</td>\n",
       "      <td>2008</td>\n",
       "      <td>Puzzle</td>\n",
       "      <td>PopCap Games</td>\n",
       "      <td>0.01</td>\n",
       "      <td>0.04</td>\n",
       "      <td>0.00</td>\n",
       "      <td>0.01</td>\n",
       "      <td>0.05</td>\n",
       "      <td>0.06</td>\n",
       "      <td>False</td>\n",
       "    </tr>\n",
       "    <tr>\n",
       "      <th>13189</th>\n",
       "      <td>13191</td>\n",
       "      <td>LEGO Indiana Jones 2: The Adventure Continues</td>\n",
       "      <td>PC</td>\n",
       "      <td>2009</td>\n",
       "      <td>Action</td>\n",
       "      <td>Activision</td>\n",
       "      <td>0.02</td>\n",
       "      <td>0.03</td>\n",
       "      <td>0.00</td>\n",
       "      <td>0.01</td>\n",
       "      <td>0.05</td>\n",
       "      <td>0.06</td>\n",
       "      <td>False</td>\n",
       "    </tr>\n",
       "  </tbody>\n",
       "</table>\n",
       "<p>501 rows × 13 columns</p>\n",
       "</div>"
      ],
      "text/plain": [
       "        Rank                                           Name Platform  Year  \\\n",
       "32        33                            Pokemon X/Pokemon Y      3DS  2013   \n",
       "47        48                                 Gran Turismo 4      PS2  2004   \n",
       "85        86             Mario & Sonic at the Olympic Games      Wii  2007   \n",
       "154      155                                        Destiny      PS4  2014   \n",
       "176      177                            Assassin's Creed II     X360  2009   \n",
       "...      ...                                            ...      ...   ...   \n",
       "13002  13004                         Ferrari F355 Challenge      PS2  2002   \n",
       "13010  13012                                       Shifters      PS2  2002   \n",
       "13042  13044                                      Downforce      PS2  2002   \n",
       "13043  13045                                Bejeweled Twist       PC  2008   \n",
       "13189  13191  LEGO Indiana Jones 2: The Adventure Continues       PC  2009   \n",
       "\n",
       "              Genre                    Publisher  NA_Sales  EU_Sales  \\\n",
       "32     Role-Playing                     Nintendo      5.17      4.05   \n",
       "47           Racing  Sony Computer Entertainment      3.01      0.01   \n",
       "85           Sports                         Sega      2.58      3.90   \n",
       "154         Shooter                   Activision      2.49      2.05   \n",
       "176          Action                      Ubisoft      3.10      1.56   \n",
       "...             ...                          ...       ...       ...   \n",
       "13002        Racing  Sony Computer Entertainment      0.03      0.02   \n",
       "13010     Adventure                          3DO      0.03      0.02   \n",
       "13042        Racing           Avalon Interactive      0.03      0.02   \n",
       "13043        Puzzle                 PopCap Games      0.01      0.04   \n",
       "13189        Action                   Activision      0.02      0.03   \n",
       "\n",
       "       JP_Sales  Other_Sales  Global_Sales  test_sum  check  \n",
       "32         4.34         0.79         14.35     14.35  False  \n",
       "47         1.10         7.53         11.66     11.65  False  \n",
       "85         0.66         0.91          8.06      8.05  False  \n",
       "154        0.16         0.96          5.65      5.66  False  \n",
       "176        0.08         0.51          5.27      5.25  False  \n",
       "...         ...          ...           ...       ...    ...  \n",
       "13002      0.00         0.01          0.05      0.06  False  \n",
       "13010      0.00         0.01          0.05      0.06  False  \n",
       "13042      0.00         0.01          0.05      0.06  False  \n",
       "13043      0.00         0.01          0.05      0.06  False  \n",
       "13189      0.00         0.01          0.05      0.06  False  \n",
       "\n",
       "[501 rows x 13 columns]"
      ]
     },
     "execution_count": 24,
     "metadata": {},
     "output_type": "execute_result"
    }
   ],
   "source": [
    "vg[vg[\"check\"] == False]"
   ]
  },
  {
   "cell_type": "markdown",
   "id": "fce6bdb4",
   "metadata": {},
   "source": [
    "issue3 : some rows in global sales are not direct sum of the individual sales as confirmed above</p>\n",
    "\n",
    "description: some cumulative value are incorrect by decimals in most cases, this might have been caused by possible rounding off</p>\n",
    "\n",
    "Solution: keep the new calculated test sum and delete the global sale column"
   ]
  },
  {
   "cell_type": "code",
   "execution_count": 25,
   "id": "db9697ce",
   "metadata": {},
   "outputs": [],
   "source": [
    "vg.drop([\"Global_Sales\", \"check\"], axis =1, inplace = True)"
   ]
  },
  {
   "cell_type": "code",
   "execution_count": 26,
   "id": "a8335ae9",
   "metadata": {},
   "outputs": [],
   "source": [
    "# Rename test_sum to global_sum and also rename name to movie title\n",
    "vg.rename({\"test_sum\":\"Global_Sum\", \"Name\":\"Video_game\"}, axis=1, inplace = True)"
   ]
  },
  {
   "cell_type": "code",
   "execution_count": 27,
   "id": "060eb8a7",
   "metadata": {},
   "outputs": [],
   "source": [
    "vg.rename({\"test_sum\": \"Global_Sum\"}, axis=1, inplace=True)"
   ]
  },
  {
   "cell_type": "markdown",
   "id": "2c46fb62",
   "metadata": {},
   "source": [
    "Test: check if the column were properly renamed"
   ]
  },
  {
   "cell_type": "code",
   "execution_count": 28,
   "id": "8dd68b61",
   "metadata": {},
   "outputs": [
    {
     "data": {
      "text/plain": [
       "Index(['Rank', 'Video_game', 'Platform', 'Year', 'Genre', 'Publisher',\n",
       "       'NA_Sales', 'EU_Sales', 'JP_Sales', 'Other_Sales', 'Global_Sum'],\n",
       "      dtype='object')"
      ]
     },
     "execution_count": 28,
     "metadata": {},
     "output_type": "execute_result"
    }
   ],
   "source": [
    "vg.columns"
   ]
  },
  {
   "cell_type": "code",
   "execution_count": 29,
   "id": "edf7360f",
   "metadata": {},
   "outputs": [
    {
     "data": {
      "text/plain": [
       "Index(['Rank', 'Video_game', 'Platform', 'Year', 'Genre', 'Publisher',\n",
       "       'NA_Sales', 'EU_Sales', 'JP_Sales', 'Other_Sales', 'Global_Sum'],\n",
       "      dtype='object')"
      ]
     },
     "execution_count": 29,
     "metadata": {},
     "output_type": "execute_result"
    }
   ],
   "source": [
    "# check if columns were properly deleted\n",
    "vg.columns"
   ]
  },
  {
   "cell_type": "code",
   "execution_count": 30,
   "id": "7ffea3d1",
   "metadata": {},
   "outputs": [
    {
     "data": {
      "text/plain": [
       "Rank             int64\n",
       "Video_game      object\n",
       "Platform        object\n",
       "Year            object\n",
       "Genre           object\n",
       "Publisher       object\n",
       "NA_Sales       float64\n",
       "EU_Sales       float64\n",
       "JP_Sales       float64\n",
       "Other_Sales    float64\n",
       "Global_Sum     float64\n",
       "dtype: object"
      ]
     },
     "execution_count": 30,
     "metadata": {},
     "output_type": "execute_result"
    }
   ],
   "source": [
    "vg.dtypes"
   ]
  },
  {
   "cell_type": "code",
   "execution_count": 31,
   "id": "0011c9a9",
   "metadata": {},
   "outputs": [
    {
     "data": {
      "text/html": [
       "<div>\n",
       "<style scoped>\n",
       "    .dataframe tbody tr th:only-of-type {\n",
       "        vertical-align: middle;\n",
       "    }\n",
       "\n",
       "    .dataframe tbody tr th {\n",
       "        vertical-align: top;\n",
       "    }\n",
       "\n",
       "    .dataframe thead th {\n",
       "        text-align: right;\n",
       "    }\n",
       "</style>\n",
       "<table border=\"1\" class=\"dataframe\">\n",
       "  <thead>\n",
       "    <tr style=\"text-align: right;\">\n",
       "      <th></th>\n",
       "      <th>Rank</th>\n",
       "      <th>Video_game</th>\n",
       "      <th>Platform</th>\n",
       "      <th>Year</th>\n",
       "      <th>Genre</th>\n",
       "      <th>Publisher</th>\n",
       "      <th>NA_Sales</th>\n",
       "      <th>EU_Sales</th>\n",
       "      <th>JP_Sales</th>\n",
       "      <th>Other_Sales</th>\n",
       "      <th>Global_Sum</th>\n",
       "    </tr>\n",
       "  </thead>\n",
       "  <tbody>\n",
       "    <tr>\n",
       "      <th>0</th>\n",
       "      <td>1</td>\n",
       "      <td>Wii Sports</td>\n",
       "      <td>Wii</td>\n",
       "      <td>2006</td>\n",
       "      <td>Sports</td>\n",
       "      <td>Nintendo</td>\n",
       "      <td>41.49</td>\n",
       "      <td>29.02</td>\n",
       "      <td>3.77</td>\n",
       "      <td>8.46</td>\n",
       "      <td>82.74</td>\n",
       "    </tr>\n",
       "    <tr>\n",
       "      <th>1</th>\n",
       "      <td>2</td>\n",
       "      <td>Super Mario Bros.</td>\n",
       "      <td>NES</td>\n",
       "      <td>1985</td>\n",
       "      <td>Platform</td>\n",
       "      <td>Nintendo</td>\n",
       "      <td>29.08</td>\n",
       "      <td>3.58</td>\n",
       "      <td>6.81</td>\n",
       "      <td>0.77</td>\n",
       "      <td>40.24</td>\n",
       "    </tr>\n",
       "    <tr>\n",
       "      <th>2</th>\n",
       "      <td>3</td>\n",
       "      <td>Mario Kart Wii</td>\n",
       "      <td>Wii</td>\n",
       "      <td>2008</td>\n",
       "      <td>Racing</td>\n",
       "      <td>Nintendo</td>\n",
       "      <td>15.85</td>\n",
       "      <td>12.88</td>\n",
       "      <td>3.79</td>\n",
       "      <td>3.31</td>\n",
       "      <td>35.83</td>\n",
       "    </tr>\n",
       "    <tr>\n",
       "      <th>3</th>\n",
       "      <td>4</td>\n",
       "      <td>Wii Sports Resort</td>\n",
       "      <td>Wii</td>\n",
       "      <td>2009</td>\n",
       "      <td>Sports</td>\n",
       "      <td>Nintendo</td>\n",
       "      <td>15.75</td>\n",
       "      <td>11.01</td>\n",
       "      <td>3.28</td>\n",
       "      <td>2.96</td>\n",
       "      <td>33.00</td>\n",
       "    </tr>\n",
       "    <tr>\n",
       "      <th>4</th>\n",
       "      <td>5</td>\n",
       "      <td>Pokemon Red/Pokemon Blue</td>\n",
       "      <td>GB</td>\n",
       "      <td>1996</td>\n",
       "      <td>Role-Playing</td>\n",
       "      <td>Nintendo</td>\n",
       "      <td>11.27</td>\n",
       "      <td>8.89</td>\n",
       "      <td>10.22</td>\n",
       "      <td>1.00</td>\n",
       "      <td>31.38</td>\n",
       "    </tr>\n",
       "  </tbody>\n",
       "</table>\n",
       "</div>"
      ],
      "text/plain": [
       "   Rank                Video_game Platform  Year         Genre Publisher  \\\n",
       "0     1                Wii Sports      Wii  2006        Sports  Nintendo   \n",
       "1     2         Super Mario Bros.      NES  1985      Platform  Nintendo   \n",
       "2     3            Mario Kart Wii      Wii  2008        Racing  Nintendo   \n",
       "3     4         Wii Sports Resort      Wii  2009        Sports  Nintendo   \n",
       "4     5  Pokemon Red/Pokemon Blue       GB  1996  Role-Playing  Nintendo   \n",
       "\n",
       "   NA_Sales  EU_Sales  JP_Sales  Other_Sales  Global_Sum  \n",
       "0     41.49     29.02      3.77         8.46       82.74  \n",
       "1     29.08      3.58      6.81         0.77       40.24  \n",
       "2     15.85     12.88      3.79         3.31       35.83  \n",
       "3     15.75     11.01      3.28         2.96       33.00  \n",
       "4     11.27      8.89     10.22         1.00       31.38  "
      ]
     },
     "execution_count": 31,
     "metadata": {},
     "output_type": "execute_result"
    }
   ],
   "source": [
    "vg.head()"
   ]
  },
  {
   "cell_type": "markdown",
   "id": "d642fa54",
   "metadata": {},
   "source": [
    "### Research questions\n",
    "which publisher is the best performing publisher <p/>\n",
    "we are planing to shut down the least performing genre <p/>"
   ]
  },
  {
   "cell_type": "code",
   "execution_count": 32,
   "id": "41bcdd38",
   "metadata": {},
   "outputs": [],
   "source": [
    "# video games with global sum that is  above 50\n",
    "GLOBAL_SUM_ABOVE_50 =vg[vg[\"Global_Sum\"]>50]"
   ]
  },
  {
   "cell_type": "code",
   "execution_count": 33,
   "id": "70be3733",
   "metadata": {},
   "outputs": [],
   "source": [
    "GLOBAL_SUM_ABOVE_50.to_excel(\"GLOBAL SUM ABOVE 50.xlsx\")"
   ]
  },
  {
   "cell_type": "code",
   "execution_count": 34,
   "id": "855873f5",
   "metadata": {},
   "outputs": [
    {
     "data": {
      "text/plain": [
       "830.54"
      ]
     },
     "execution_count": 34,
     "metadata": {},
     "output_type": "execute_result"
    }
   ],
   "source": [
    "# sum of sales for sport and platform genre\n",
    "vg[(vg[\"Genre\"] == \"Sport\") | (vg[\"Genre\"] == \"Platform\")][\"Global_Sum\"].sum()"
   ]
  },
  {
   "cell_type": "code",
   "execution_count": 35,
   "id": "240b1007",
   "metadata": {},
   "outputs": [
    {
     "data": {
      "text/plain": [
       "830.54"
      ]
     },
     "execution_count": 35,
     "metadata": {},
     "output_type": "execute_result"
    }
   ],
   "source": [
    "# USING QUERY\n",
    "vg.query(\"Genre == 'Sport' or Genre == 'Platform'\")[\"Global_Sum\"].sum()"
   ]
  },
  {
   "cell_type": "code",
   "execution_count": 36,
   "id": "99934193",
   "metadata": {},
   "outputs": [
    {
     "data": {
      "text/plain": [
       "0.0"
      ]
     },
     "execution_count": 36,
     "metadata": {},
     "output_type": "execute_result"
    }
   ],
   "source": [
    "# what i the total sales racing category in 2006 \n",
    "# sum of sales for sports and platform\n",
    "vg[(vg['Genre'] == \"Racing\") & (vg['Year'] == 2008.0)] [\"Global_Sum\"].sum()"
   ]
  },
  {
   "cell_type": "code",
   "execution_count": 37,
   "id": "133b0627",
   "metadata": {},
   "outputs": [
    {
     "data": {
      "text/html": [
       "<div>\n",
       "<style scoped>\n",
       "    .dataframe tbody tr th:only-of-type {\n",
       "        vertical-align: middle;\n",
       "    }\n",
       "\n",
       "    .dataframe tbody tr th {\n",
       "        vertical-align: top;\n",
       "    }\n",
       "\n",
       "    .dataframe thead th {\n",
       "        text-align: right;\n",
       "    }\n",
       "</style>\n",
       "<table border=\"1\" class=\"dataframe\">\n",
       "  <thead>\n",
       "    <tr style=\"text-align: right;\">\n",
       "      <th></th>\n",
       "      <th>Video_game</th>\n",
       "      <th>EU_Sales</th>\n",
       "    </tr>\n",
       "  </thead>\n",
       "  <tbody>\n",
       "    <tr>\n",
       "      <th>0</th>\n",
       "      <td>Wii Sports</td>\n",
       "      <td>29.02</td>\n",
       "    </tr>\n",
       "    <tr>\n",
       "      <th>2</th>\n",
       "      <td>Mario Kart Wii</td>\n",
       "      <td>12.88</td>\n",
       "    </tr>\n",
       "    <tr>\n",
       "      <th>3</th>\n",
       "      <td>Wii Sports Resort</td>\n",
       "      <td>11.01</td>\n",
       "    </tr>\n",
       "    <tr>\n",
       "      <th>10</th>\n",
       "      <td>Nintendogs</td>\n",
       "      <td>11.00</td>\n",
       "    </tr>\n",
       "    <tr>\n",
       "      <th>16</th>\n",
       "      <td>Grand Theft Auto V</td>\n",
       "      <td>9.27</td>\n",
       "    </tr>\n",
       "  </tbody>\n",
       "</table>\n",
       "</div>"
      ],
      "text/plain": [
       "            Video_game  EU_Sales\n",
       "0           Wii Sports     29.02\n",
       "2       Mario Kart Wii     12.88\n",
       "3    Wii Sports Resort     11.01\n",
       "10          Nintendogs     11.00\n",
       "16  Grand Theft Auto V      9.27"
      ]
     },
     "execution_count": 37,
     "metadata": {},
     "output_type": "execute_result"
    }
   ],
   "source": [
    "#top five movies in europe\n",
    "vg.sort_values(by=\"EU_Sales\", ascending = False)[[\"Video_game\",\"EU_Sales\"]].head(5)"
   ]
  },
  {
   "cell_type": "markdown",
   "id": "a94c0696",
   "metadata": {},
   "source": [
    "### Grouping"
   ]
  },
  {
   "cell_type": "code",
   "execution_count": 38,
   "id": "86e7253d",
   "metadata": {},
   "outputs": [
    {
     "data": {
      "text/plain": [
       "Genre\n",
       "Action          1749.30\n",
       "Adventure        238.55\n",
       "Fighting         445.73\n",
       "Misc             801.54\n",
       "Platform         830.54\n",
       "Puzzle           244.41\n",
       "Racing           731.76\n",
       "Role-Playing     927.20\n",
       "Shooter         1036.80\n",
       "Simulation       391.67\n",
       "Sports          1328.96\n",
       "Strategy         174.57\n",
       "Name: Global_Sum, dtype: float64"
      ]
     },
     "execution_count": 38,
     "metadata": {},
     "output_type": "execute_result"
    }
   ],
   "source": [
    "# total sales by genre\n",
    "vg.groupby(\"Genre\")[\"Global_Sum\"].sum()"
   ]
  },
  {
   "cell_type": "code",
   "execution_count": 39,
   "id": "fb88b9c0",
   "metadata": {},
   "outputs": [
    {
     "data": {
      "text/html": [
       "<div>\n",
       "<style scoped>\n",
       "    .dataframe tbody tr th:only-of-type {\n",
       "        vertical-align: middle;\n",
       "    }\n",
       "\n",
       "    .dataframe tbody tr th {\n",
       "        vertical-align: top;\n",
       "    }\n",
       "\n",
       "    .dataframe thead th {\n",
       "        text-align: right;\n",
       "    }\n",
       "</style>\n",
       "<table border=\"1\" class=\"dataframe\">\n",
       "  <thead>\n",
       "    <tr style=\"text-align: right;\">\n",
       "      <th></th>\n",
       "      <th>EU_Sales</th>\n",
       "      <th>Global_Sum</th>\n",
       "    </tr>\n",
       "    <tr>\n",
       "      <th>Genre</th>\n",
       "      <th></th>\n",
       "      <th></th>\n",
       "    </tr>\n",
       "  </thead>\n",
       "  <tbody>\n",
       "    <tr>\n",
       "      <th>Action</th>\n",
       "      <td>0.158634</td>\n",
       "      <td>0.528649</td>\n",
       "    </tr>\n",
       "    <tr>\n",
       "      <th>Adventure</th>\n",
       "      <td>0.049984</td>\n",
       "      <td>0.186076</td>\n",
       "    </tr>\n",
       "    <tr>\n",
       "      <th>Fighting</th>\n",
       "      <td>0.118463</td>\n",
       "      <td>0.526868</td>\n",
       "    </tr>\n",
       "    <tr>\n",
       "      <th>Misc</th>\n",
       "      <td>0.124959</td>\n",
       "      <td>0.468189</td>\n",
       "    </tr>\n",
       "    <tr>\n",
       "      <th>Platform</th>\n",
       "      <td>0.227523</td>\n",
       "      <td>0.939525</td>\n",
       "    </tr>\n",
       "    <tr>\n",
       "      <th>Puzzle</th>\n",
       "      <td>0.087384</td>\n",
       "      <td>0.420671</td>\n",
       "    </tr>\n",
       "    <tr>\n",
       "      <th>Racing</th>\n",
       "      <td>0.191010</td>\n",
       "      <td>0.586346</td>\n",
       "    </tr>\n",
       "    <tr>\n",
       "      <th>Role-Playing</th>\n",
       "      <td>0.126548</td>\n",
       "      <td>0.623957</td>\n",
       "    </tr>\n",
       "    <tr>\n",
       "      <th>Shooter</th>\n",
       "      <td>0.239480</td>\n",
       "      <td>0.792661</td>\n",
       "    </tr>\n",
       "    <tr>\n",
       "      <th>Simulation</th>\n",
       "      <td>0.131170</td>\n",
       "      <td>0.453847</td>\n",
       "    </tr>\n",
       "    <tr>\n",
       "      <th>Sports</th>\n",
       "      <td>0.160606</td>\n",
       "      <td>0.567204</td>\n",
       "    </tr>\n",
       "    <tr>\n",
       "      <th>Strategy</th>\n",
       "      <td>0.066711</td>\n",
       "      <td>0.257478</td>\n",
       "    </tr>\n",
       "  </tbody>\n",
       "</table>\n",
       "</div>"
      ],
      "text/plain": [
       "              EU_Sales  Global_Sum\n",
       "Genre                             \n",
       "Action        0.158634    0.528649\n",
       "Adventure     0.049984    0.186076\n",
       "Fighting      0.118463    0.526868\n",
       "Misc          0.124959    0.468189\n",
       "Platform      0.227523    0.939525\n",
       "Puzzle        0.087384    0.420671\n",
       "Racing        0.191010    0.586346\n",
       "Role-Playing  0.126548    0.623957\n",
       "Shooter       0.239480    0.792661\n",
       "Simulation    0.131170    0.453847\n",
       "Sports        0.160606    0.567204\n",
       "Strategy      0.066711    0.257478"
      ]
     },
     "execution_count": 39,
     "metadata": {},
     "output_type": "execute_result"
    }
   ],
   "source": [
    "# average sales by genre\n",
    "vg[[\"Genre\", \"EU_Sales\", \"Global_Sum\"]].groupby(\"Genre\").mean()\n"
   ]
  },
  {
   "cell_type": "code",
   "execution_count": 40,
   "id": "0b673d84",
   "metadata": {},
   "outputs": [
    {
     "data": {
      "text/html": [
       "<div>\n",
       "<style scoped>\n",
       "    .dataframe tbody tr th:only-of-type {\n",
       "        vertical-align: middle;\n",
       "    }\n",
       "\n",
       "    .dataframe tbody tr th {\n",
       "        vertical-align: top;\n",
       "    }\n",
       "\n",
       "    .dataframe thead tr th {\n",
       "        text-align: left;\n",
       "    }\n",
       "\n",
       "    .dataframe thead tr:last-of-type th {\n",
       "        text-align: right;\n",
       "    }\n",
       "</style>\n",
       "<table border=\"1\" class=\"dataframe\">\n",
       "  <thead>\n",
       "    <tr>\n",
       "      <th></th>\n",
       "      <th colspan=\"3\" halign=\"left\">Global_Sum</th>\n",
       "      <th colspan=\"3\" halign=\"left\">NA_Sales</th>\n",
       "      <th colspan=\"3\" halign=\"left\">JP_Sales</th>\n",
       "      <th colspan=\"3\" halign=\"left\">EU_Sales</th>\n",
       "    </tr>\n",
       "    <tr>\n",
       "      <th></th>\n",
       "      <th>count</th>\n",
       "      <th>mean</th>\n",
       "      <th>sum</th>\n",
       "      <th>count</th>\n",
       "      <th>mean</th>\n",
       "      <th>sum</th>\n",
       "      <th>count</th>\n",
       "      <th>mean</th>\n",
       "      <th>sum</th>\n",
       "      <th>count</th>\n",
       "      <th>mean</th>\n",
       "      <th>sum</th>\n",
       "    </tr>\n",
       "    <tr>\n",
       "      <th>Genre</th>\n",
       "      <th></th>\n",
       "      <th></th>\n",
       "      <th></th>\n",
       "      <th></th>\n",
       "      <th></th>\n",
       "      <th></th>\n",
       "      <th></th>\n",
       "      <th></th>\n",
       "      <th></th>\n",
       "      <th></th>\n",
       "      <th></th>\n",
       "      <th></th>\n",
       "    </tr>\n",
       "  </thead>\n",
       "  <tbody>\n",
       "    <tr>\n",
       "      <th>Action</th>\n",
       "      <td>3309</td>\n",
       "      <td>0.528649</td>\n",
       "      <td>1749.30</td>\n",
       "      <td>3309</td>\n",
       "      <td>0.265198</td>\n",
       "      <td>877.54</td>\n",
       "      <td>3309</td>\n",
       "      <td>0.048199</td>\n",
       "      <td>159.49</td>\n",
       "      <td>3309</td>\n",
       "      <td>0.158634</td>\n",
       "      <td>524.92</td>\n",
       "    </tr>\n",
       "    <tr>\n",
       "      <th>Adventure</th>\n",
       "      <td>1282</td>\n",
       "      <td>0.186076</td>\n",
       "      <td>238.55</td>\n",
       "      <td>1282</td>\n",
       "      <td>0.082426</td>\n",
       "      <td>105.67</td>\n",
       "      <td>1282</td>\n",
       "      <td>0.040554</td>\n",
       "      <td>51.99</td>\n",
       "      <td>1282</td>\n",
       "      <td>0.049984</td>\n",
       "      <td>64.08</td>\n",
       "    </tr>\n",
       "    <tr>\n",
       "      <th>Fighting</th>\n",
       "      <td>846</td>\n",
       "      <td>0.526868</td>\n",
       "      <td>445.73</td>\n",
       "      <td>846</td>\n",
       "      <td>0.262317</td>\n",
       "      <td>221.92</td>\n",
       "      <td>846</td>\n",
       "      <td>0.103251</td>\n",
       "      <td>87.35</td>\n",
       "      <td>846</td>\n",
       "      <td>0.118463</td>\n",
       "      <td>100.22</td>\n",
       "    </tr>\n",
       "    <tr>\n",
       "      <th>Misc</th>\n",
       "      <td>1712</td>\n",
       "      <td>0.468189</td>\n",
       "      <td>801.54</td>\n",
       "      <td>1712</td>\n",
       "      <td>0.236373</td>\n",
       "      <td>404.67</td>\n",
       "      <td>1712</td>\n",
       "      <td>0.062921</td>\n",
       "      <td>107.72</td>\n",
       "      <td>1712</td>\n",
       "      <td>0.124959</td>\n",
       "      <td>213.93</td>\n",
       "    </tr>\n",
       "    <tr>\n",
       "      <th>Platform</th>\n",
       "      <td>884</td>\n",
       "      <td>0.939525</td>\n",
       "      <td>830.54</td>\n",
       "      <td>884</td>\n",
       "      <td>0.505713</td>\n",
       "      <td>447.05</td>\n",
       "      <td>884</td>\n",
       "      <td>0.147930</td>\n",
       "      <td>130.77</td>\n",
       "      <td>884</td>\n",
       "      <td>0.227523</td>\n",
       "      <td>201.13</td>\n",
       "    </tr>\n",
       "    <tr>\n",
       "      <th>Puzzle</th>\n",
       "      <td>581</td>\n",
       "      <td>0.420671</td>\n",
       "      <td>244.41</td>\n",
       "      <td>581</td>\n",
       "      <td>0.213046</td>\n",
       "      <td>123.78</td>\n",
       "      <td>581</td>\n",
       "      <td>0.098640</td>\n",
       "      <td>57.31</td>\n",
       "      <td>581</td>\n",
       "      <td>0.087384</td>\n",
       "      <td>50.77</td>\n",
       "    </tr>\n",
       "    <tr>\n",
       "      <th>Racing</th>\n",
       "      <td>1248</td>\n",
       "      <td>0.586346</td>\n",
       "      <td>731.76</td>\n",
       "      <td>1248</td>\n",
       "      <td>0.287997</td>\n",
       "      <td>359.42</td>\n",
       "      <td>1248</td>\n",
       "      <td>0.045425</td>\n",
       "      <td>56.69</td>\n",
       "      <td>1248</td>\n",
       "      <td>0.191010</td>\n",
       "      <td>238.38</td>\n",
       "    </tr>\n",
       "    <tr>\n",
       "      <th>Role-Playing</th>\n",
       "      <td>1486</td>\n",
       "      <td>0.623957</td>\n",
       "      <td>927.20</td>\n",
       "      <td>1486</td>\n",
       "      <td>0.220242</td>\n",
       "      <td>327.28</td>\n",
       "      <td>1486</td>\n",
       "      <td>0.237052</td>\n",
       "      <td>352.26</td>\n",
       "      <td>1486</td>\n",
       "      <td>0.126548</td>\n",
       "      <td>188.05</td>\n",
       "    </tr>\n",
       "    <tr>\n",
       "      <th>Shooter</th>\n",
       "      <td>1308</td>\n",
       "      <td>0.792661</td>\n",
       "      <td>1036.80</td>\n",
       "      <td>1308</td>\n",
       "      <td>0.445405</td>\n",
       "      <td>582.59</td>\n",
       "      <td>1308</td>\n",
       "      <td>0.029266</td>\n",
       "      <td>38.28</td>\n",
       "      <td>1308</td>\n",
       "      <td>0.239480</td>\n",
       "      <td>313.24</td>\n",
       "    </tr>\n",
       "    <tr>\n",
       "      <th>Simulation</th>\n",
       "      <td>863</td>\n",
       "      <td>0.453847</td>\n",
       "      <td>391.67</td>\n",
       "      <td>863</td>\n",
       "      <td>0.212410</td>\n",
       "      <td>183.31</td>\n",
       "      <td>863</td>\n",
       "      <td>0.073743</td>\n",
       "      <td>63.64</td>\n",
       "      <td>863</td>\n",
       "      <td>0.131170</td>\n",
       "      <td>113.20</td>\n",
       "    </tr>\n",
       "    <tr>\n",
       "      <th>Sports</th>\n",
       "      <td>2343</td>\n",
       "      <td>0.567204</td>\n",
       "      <td>1328.96</td>\n",
       "      <td>2343</td>\n",
       "      <td>0.291310</td>\n",
       "      <td>682.54</td>\n",
       "      <td>2343</td>\n",
       "      <td>0.057725</td>\n",
       "      <td>135.25</td>\n",
       "      <td>2343</td>\n",
       "      <td>0.160606</td>\n",
       "      <td>376.30</td>\n",
       "    </tr>\n",
       "    <tr>\n",
       "      <th>Strategy</th>\n",
       "      <td>678</td>\n",
       "      <td>0.257478</td>\n",
       "      <td>174.57</td>\n",
       "      <td>678</td>\n",
       "      <td>0.101239</td>\n",
       "      <td>68.64</td>\n",
       "      <td>678</td>\n",
       "      <td>0.072773</td>\n",
       "      <td>49.34</td>\n",
       "      <td>678</td>\n",
       "      <td>0.066711</td>\n",
       "      <td>45.23</td>\n",
       "    </tr>\n",
       "  </tbody>\n",
       "</table>\n",
       "</div>"
      ],
      "text/plain": [
       "             Global_Sum                    NA_Sales                    \\\n",
       "                  count      mean      sum    count      mean     sum   \n",
       "Genre                                                                   \n",
       "Action             3309  0.528649  1749.30     3309  0.265198  877.54   \n",
       "Adventure          1282  0.186076   238.55     1282  0.082426  105.67   \n",
       "Fighting            846  0.526868   445.73      846  0.262317  221.92   \n",
       "Misc               1712  0.468189   801.54     1712  0.236373  404.67   \n",
       "Platform            884  0.939525   830.54      884  0.505713  447.05   \n",
       "Puzzle              581  0.420671   244.41      581  0.213046  123.78   \n",
       "Racing             1248  0.586346   731.76     1248  0.287997  359.42   \n",
       "Role-Playing       1486  0.623957   927.20     1486  0.220242  327.28   \n",
       "Shooter            1308  0.792661  1036.80     1308  0.445405  582.59   \n",
       "Simulation          863  0.453847   391.67      863  0.212410  183.31   \n",
       "Sports             2343  0.567204  1328.96     2343  0.291310  682.54   \n",
       "Strategy            678  0.257478   174.57      678  0.101239   68.64   \n",
       "\n",
       "             JP_Sales                   EU_Sales                    \n",
       "                count      mean     sum    count      mean     sum  \n",
       "Genre                                                               \n",
       "Action           3309  0.048199  159.49     3309  0.158634  524.92  \n",
       "Adventure        1282  0.040554   51.99     1282  0.049984   64.08  \n",
       "Fighting          846  0.103251   87.35      846  0.118463  100.22  \n",
       "Misc             1712  0.062921  107.72     1712  0.124959  213.93  \n",
       "Platform          884  0.147930  130.77      884  0.227523  201.13  \n",
       "Puzzle            581  0.098640   57.31      581  0.087384   50.77  \n",
       "Racing           1248  0.045425   56.69     1248  0.191010  238.38  \n",
       "Role-Playing     1486  0.237052  352.26     1486  0.126548  188.05  \n",
       "Shooter          1308  0.029266   38.28     1308  0.239480  313.24  \n",
       "Simulation        863  0.073743   63.64      863  0.131170  113.20  \n",
       "Sports           2343  0.057725  135.25     2343  0.160606  376.30  \n",
       "Strategy          678  0.072773   49.34      678  0.066711   45.23  "
      ]
     },
     "execution_count": 40,
     "metadata": {},
     "output_type": "execute_result"
    }
   ],
   "source": [
    "# total sales by genre\n",
    "vg.groupby(\"Genre\").agg({\"Global_Sum\": ['count', 'mean','sum'],\n",
    "                         \"NA_Sales\" : ['count', 'mean','sum'],\n",
    "                         \"JP_Sales\" : ['count', 'mean','sum'],\n",
    "                         \"EU_Sales\" : ['count', 'mean','sum']})"
   ]
  },
  {
   "cell_type": "code",
   "execution_count": 41,
   "id": "72ef0eb0",
   "metadata": {},
   "outputs": [
    {
     "name": "stdout",
     "output_type": "stream",
     "text": [
      "Publisher\n",
      "Nintendo                       1786.36\n",
      "Electronic Arts                1110.15\n",
      "Activision                      727.11\n",
      "Sony Computer Entertainment     607.49\n",
      "Ubisoft                         474.51\n",
      "Name: Global_Sum, dtype: float64\n"
     ]
    }
   ],
   "source": [
    "# Get the top 5 publishers by Global_Sum\n",
    "top_5_publishers = vg.groupby(\"Publisher\")[\"Global_Sum\"].sum().nlargest(5)\n",
    "\n",
    "print(top_5_publishers)\n"
   ]
  },
  {
   "cell_type": "code",
   "execution_count": 42,
   "id": "3adae4fa",
   "metadata": {},
   "outputs": [
    {
     "data": {
      "text/plain": [
       "<function matplotlib.pyplot.figure(num=None, figsize=None, dpi=None, *, facecolor=None, edgecolor=None, frameon=True, FigureClass=<class 'matplotlib.figure.Figure'>, clear=False, **kwargs)>"
      ]
     },
     "execution_count": 42,
     "metadata": {},
     "output_type": "execute_result"
    }
   ],
   "source": [
    "# visualize\n",
    "plt.figure"
   ]
  },
  {
   "cell_type": "markdown",
   "id": "776b9a40",
   "metadata": {},
   "source": [
    "### PIVOT TABLES"
   ]
  },
  {
   "cell_type": "code",
   "execution_count": 43,
   "id": "1ed0c1b8",
   "metadata": {},
   "outputs": [],
   "source": [
    "vg_pivot=vg.pivot_table(index=\"Platform\", columns=\"Genre\", values=\"Global_Sum\", aggfunc=sum, fill_value = \"-\")"
   ]
  },
  {
   "cell_type": "markdown",
   "id": "642f94d9",
   "metadata": {},
   "source": [
    "### THIS SHOWS THAT MONEY SHOULD NOT BE SPENT ON PLATFORMS THAT HAS LOW GLOBAL SALES"
   ]
  },
  {
   "cell_type": "code",
   "execution_count": 44,
   "id": "50d412d4",
   "metadata": {},
   "outputs": [],
   "source": [
    "### we can reference this sheet in our powerpoint while explaining what we are doing\n",
    "vg_pivot.to_csv(\"sales_by_genre_by_platform.csv\")"
   ]
  },
  {
   "cell_type": "markdown",
   "id": "ec3c4076",
   "metadata": {},
   "source": [
    "### CORRELATION ANALYSIS\n",
    "IF THERE IS NO RELATIONSHIP BETWEEN MARKETING COST AND REVENUE, IF WE THEN INCREASE MARKETING COST THERE IS NO WAY REVENUE WILL INCREASE<P/>\n",
    "Correlation is different from causation<p/>\n",
    "for positive correlation, if A increases, B increases. for negative correlation, if A increases, B reduces"
   ]
  },
  {
   "cell_type": "code",
   "execution_count": 45,
   "id": "754364bf",
   "metadata": {},
   "outputs": [
    {
     "data": {
      "text/html": [
       "<div>\n",
       "<style scoped>\n",
       "    .dataframe tbody tr th:only-of-type {\n",
       "        vertical-align: middle;\n",
       "    }\n",
       "\n",
       "    .dataframe tbody tr th {\n",
       "        vertical-align: top;\n",
       "    }\n",
       "\n",
       "    .dataframe thead th {\n",
       "        text-align: right;\n",
       "    }\n",
       "</style>\n",
       "<table border=\"1\" class=\"dataframe\">\n",
       "  <thead>\n",
       "    <tr style=\"text-align: right;\">\n",
       "      <th></th>\n",
       "      <th>NA_Sales</th>\n",
       "      <th>EU_Sales</th>\n",
       "      <th>JP_Sales</th>\n",
       "      <th>Other_Sales</th>\n",
       "    </tr>\n",
       "  </thead>\n",
       "  <tbody>\n",
       "    <tr>\n",
       "      <th>NA_Sales</th>\n",
       "      <td>1.000000</td>\n",
       "      <td>0.767672</td>\n",
       "      <td>0.449864</td>\n",
       "      <td>0.634651</td>\n",
       "    </tr>\n",
       "    <tr>\n",
       "      <th>EU_Sales</th>\n",
       "      <td>0.767672</td>\n",
       "      <td>1.000000</td>\n",
       "      <td>0.435658</td>\n",
       "      <td>0.726326</td>\n",
       "    </tr>\n",
       "    <tr>\n",
       "      <th>JP_Sales</th>\n",
       "      <td>0.449864</td>\n",
       "      <td>0.435658</td>\n",
       "      <td>1.000000</td>\n",
       "      <td>0.290150</td>\n",
       "    </tr>\n",
       "    <tr>\n",
       "      <th>Other_Sales</th>\n",
       "      <td>0.634651</td>\n",
       "      <td>0.726326</td>\n",
       "      <td>0.290150</td>\n",
       "      <td>1.000000</td>\n",
       "    </tr>\n",
       "  </tbody>\n",
       "</table>\n",
       "</div>"
      ],
      "text/plain": [
       "             NA_Sales  EU_Sales  JP_Sales  Other_Sales\n",
       "NA_Sales     1.000000  0.767672  0.449864     0.634651\n",
       "EU_Sales     0.767672  1.000000  0.435658     0.726326\n",
       "JP_Sales     0.449864  0.435658  1.000000     0.290150\n",
       "Other_Sales  0.634651  0.726326  0.290150     1.000000"
      ]
     },
     "execution_count": 45,
     "metadata": {},
     "output_type": "execute_result"
    }
   ],
   "source": [
    "vg[['NA_Sales', 'EU_Sales', 'JP_Sales', 'Other_Sales']].corr()"
   ]
  },
  {
   "cell_type": "code",
   "execution_count": 46,
   "id": "53ca315a",
   "metadata": {},
   "outputs": [
    {
     "data": {
      "text/plain": [
       "Genre\n",
       "Strategy      174.57\n",
       "Adventure     238.55\n",
       "Puzzle        244.41\n",
       "Simulation    391.67\n",
       "Fighting      445.73\n",
       "Name: Global_Sum, dtype: float64"
      ]
     },
     "execution_count": 46,
     "metadata": {},
     "output_type": "execute_result"
    }
   ],
   "source": [
    "# we are planing to shut down the least performing genre\n",
    "vg.groupby(\"Genre\")[\"Global_Sum\"].sum().nsmallest(5)"
   ]
  },
  {
   "cell_type": "code",
   "execution_count": 47,
   "id": "179435a0",
   "metadata": {},
   "outputs": [],
   "source": [
    "# video game with highest sales in each region\n",
    "highest_sales= {\n",
    "                \"NA_Sales\": vg.loc[vg[\"NA_Sales\"].idxmax(), [\"Video_game\", \"NA_Sales\"]],\n",
    "                \"JP_Sales\": vg.loc[vg[\"JP_Sales\"].idxmax(), [\"Video_game\", \"JP_Sales\"]],\n",
    "                \"EU_Sales\":  vg.loc[vg[\"EU_Sales\"].idxmax(), [\"Video_game\", \"EU_Sales\"]],\n",
    "                \"Other_Sales\": vg.loc[vg[\"Other_Sales\"].idxmax(), [\"Video_game\", \"Other_Sales\"]]\n",
    "}\n",
    "               \n",
    "               "
   ]
  },
  {
   "cell_type": "code",
   "execution_count": 48,
   "id": "d27927f2",
   "metadata": {},
   "outputs": [
    {
     "data": {
      "text/plain": [
       "{'NA_Sales': Video_game    Wii Sports\n",
       " NA_Sales           41.49\n",
       " Name: 0, dtype: object,\n",
       " 'JP_Sales': Video_game    Pokemon Red/Pokemon Blue\n",
       " JP_Sales                         10.22\n",
       " Name: 4, dtype: object,\n",
       " 'EU_Sales': Video_game    Wii Sports\n",
       " EU_Sales           29.02\n",
       " Name: 0, dtype: object,\n",
       " 'Other_Sales': Video_game     Grand Theft Auto: San Andreas\n",
       " Other_Sales                            10.57\n",
       " Name: 17, dtype: object}"
      ]
     },
     "execution_count": 48,
     "metadata": {},
     "output_type": "execute_result"
    }
   ],
   "source": [
    "highest_sales"
   ]
  },
  {
   "cell_type": "code",
   "execution_count": 49,
   "id": "0102d6e4",
   "metadata": {},
   "outputs": [
    {
     "data": {
      "text/html": [
       "<div>\n",
       "<style scoped>\n",
       "    .dataframe tbody tr th:only-of-type {\n",
       "        vertical-align: middle;\n",
       "    }\n",
       "\n",
       "    .dataframe tbody tr th {\n",
       "        vertical-align: top;\n",
       "    }\n",
       "\n",
       "    .dataframe thead th {\n",
       "        text-align: right;\n",
       "    }\n",
       "</style>\n",
       "<table border=\"1\" class=\"dataframe\">\n",
       "  <thead>\n",
       "    <tr style=\"text-align: right;\">\n",
       "      <th></th>\n",
       "      <th>Rank</th>\n",
       "      <th>Video_game</th>\n",
       "      <th>Platform</th>\n",
       "      <th>Year</th>\n",
       "      <th>Genre</th>\n",
       "      <th>Publisher</th>\n",
       "      <th>NA_Sales</th>\n",
       "      <th>EU_Sales</th>\n",
       "      <th>JP_Sales</th>\n",
       "      <th>Other_Sales</th>\n",
       "      <th>Global_Sum</th>\n",
       "    </tr>\n",
       "  </thead>\n",
       "  <tbody>\n",
       "    <tr>\n",
       "      <th>0</th>\n",
       "      <td>1</td>\n",
       "      <td>Wii Sports</td>\n",
       "      <td>Wii</td>\n",
       "      <td>2006</td>\n",
       "      <td>Sports</td>\n",
       "      <td>Nintendo</td>\n",
       "      <td>41.49</td>\n",
       "      <td>29.02</td>\n",
       "      <td>3.77</td>\n",
       "      <td>8.46</td>\n",
       "      <td>82.74</td>\n",
       "    </tr>\n",
       "    <tr>\n",
       "      <th>1</th>\n",
       "      <td>2</td>\n",
       "      <td>Super Mario Bros.</td>\n",
       "      <td>NES</td>\n",
       "      <td>1985</td>\n",
       "      <td>Platform</td>\n",
       "      <td>Nintendo</td>\n",
       "      <td>29.08</td>\n",
       "      <td>3.58</td>\n",
       "      <td>6.81</td>\n",
       "      <td>0.77</td>\n",
       "      <td>40.24</td>\n",
       "    </tr>\n",
       "    <tr>\n",
       "      <th>2</th>\n",
       "      <td>3</td>\n",
       "      <td>Mario Kart Wii</td>\n",
       "      <td>Wii</td>\n",
       "      <td>2008</td>\n",
       "      <td>Racing</td>\n",
       "      <td>Nintendo</td>\n",
       "      <td>15.85</td>\n",
       "      <td>12.88</td>\n",
       "      <td>3.79</td>\n",
       "      <td>3.31</td>\n",
       "      <td>35.83</td>\n",
       "    </tr>\n",
       "    <tr>\n",
       "      <th>3</th>\n",
       "      <td>4</td>\n",
       "      <td>Wii Sports Resort</td>\n",
       "      <td>Wii</td>\n",
       "      <td>2009</td>\n",
       "      <td>Sports</td>\n",
       "      <td>Nintendo</td>\n",
       "      <td>15.75</td>\n",
       "      <td>11.01</td>\n",
       "      <td>3.28</td>\n",
       "      <td>2.96</td>\n",
       "      <td>33.00</td>\n",
       "    </tr>\n",
       "    <tr>\n",
       "      <th>4</th>\n",
       "      <td>5</td>\n",
       "      <td>Pokemon Red/Pokemon Blue</td>\n",
       "      <td>GB</td>\n",
       "      <td>1996</td>\n",
       "      <td>Role-Playing</td>\n",
       "      <td>Nintendo</td>\n",
       "      <td>11.27</td>\n",
       "      <td>8.89</td>\n",
       "      <td>10.22</td>\n",
       "      <td>1.00</td>\n",
       "      <td>31.38</td>\n",
       "    </tr>\n",
       "  </tbody>\n",
       "</table>\n",
       "</div>"
      ],
      "text/plain": [
       "   Rank                Video_game Platform  Year         Genre Publisher  \\\n",
       "0     1                Wii Sports      Wii  2006        Sports  Nintendo   \n",
       "1     2         Super Mario Bros.      NES  1985      Platform  Nintendo   \n",
       "2     3            Mario Kart Wii      Wii  2008        Racing  Nintendo   \n",
       "3     4         Wii Sports Resort      Wii  2009        Sports  Nintendo   \n",
       "4     5  Pokemon Red/Pokemon Blue       GB  1996  Role-Playing  Nintendo   \n",
       "\n",
       "   NA_Sales  EU_Sales  JP_Sales  Other_Sales  Global_Sum  \n",
       "0     41.49     29.02      3.77         8.46       82.74  \n",
       "1     29.08      3.58      6.81         0.77       40.24  \n",
       "2     15.85     12.88      3.79         3.31       35.83  \n",
       "3     15.75     11.01      3.28         2.96       33.00  \n",
       "4     11.27      8.89     10.22         1.00       31.38  "
      ]
     },
     "execution_count": 49,
     "metadata": {},
     "output_type": "execute_result"
    }
   ],
   "source": [
    "vg.head()"
   ]
  },
  {
   "cell_type": "code",
   "execution_count": 50,
   "id": "cf421cb8",
   "metadata": {},
   "outputs": [
    {
     "data": {
      "text/plain": [
       "'NA_Sales'"
      ]
     },
     "execution_count": 50,
     "metadata": {},
     "output_type": "execute_result"
    }
   ],
   "source": [
    "# which region contributes the most to global sales\n",
    "vg[[\"NA_Sales\", \"EU_Sales\", \"JP_Sales\", \"Other_Sales\"]].sum().idxmax()"
   ]
  },
  {
   "cell_type": "code",
   "execution_count": 51,
   "id": "5e980b37",
   "metadata": {},
   "outputs": [],
   "source": [
    "# sum each region sales\n",
    "total_NA_Sales = vg[\"NA_Sales\"].sum()\n",
    "total_JP_Sales = vg[\"JP_Sales\"].sum()\n",
    "total_Other_Sales = vg[\"Other_Sales\"].sum()\n",
    "total_EU_Sales = vg[\"EU_Sales\"].sum()\n",
    "\n",
    "# SUM THE GLOBAL SALES\n",
    "total_Global_Sales = vg[\"Global_Sum\"].sum()\n",
    "\n",
    "# calculate the percentage contribution\n",
    "percentage_global_sales= {\n",
    "   \"NA_Sales\": f\"{(total_NA_Sales / total_Global_Sales) * 100:.0f}%\",\n",
    "   \"JP_Sales\": f\"{(total_JP_Sales / total_Global_Sales) * 100:.0f}%\",\n",
    "  \"Oher_Sales\": f\"{(total_Other_Sales / total_Global_Sales) * 100:.0f}%\",\n",
    "    \"EU_Sales\": f\"{(total_EU_Sales / total_Global_Sales) * 100:.0f}%\"\n",
    "}"
   ]
  },
  {
   "cell_type": "code",
   "execution_count": 52,
   "id": "d947b9ca",
   "metadata": {},
   "outputs": [
    {
     "data": {
      "text/plain": [
       "{'NA_Sales': '49%', 'JP_Sales': '14%', 'Oher_Sales': '9%', 'EU_Sales': '27%'}"
      ]
     },
     "execution_count": 52,
     "metadata": {},
     "output_type": "execute_result"
    }
   ],
   "source": [
    "percentage_global_sales"
   ]
  },
  {
   "cell_type": "code",
   "execution_count": 53,
   "id": "ac6c7803",
   "metadata": {},
   "outputs": [],
   "source": [
    "# percentage_global_sales.to_csv(\"percentage_global_sales\")"
   ]
  },
  {
   "cell_type": "code",
   "execution_count": null,
   "id": "23c08777",
   "metadata": {},
   "outputs": [],
   "source": []
  }
 ],
 "metadata": {
  "kernelspec": {
   "display_name": "Python 3 (ipykernel)",
   "language": "python",
   "name": "python3"
  },
  "language_info": {
   "codemirror_mode": {
    "name": "ipython",
    "version": 3
   },
   "file_extension": ".py",
   "mimetype": "text/x-python",
   "name": "python",
   "nbconvert_exporter": "python",
   "pygments_lexer": "ipython3",
   "version": "3.11.5"
  }
 },
 "nbformat": 4,
 "nbformat_minor": 5
}
